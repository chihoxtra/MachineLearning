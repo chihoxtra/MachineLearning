{
 "cells": [
  {
   "cell_type": "code",
   "execution_count": 20,
   "metadata": {},
   "outputs": [
    {
     "data": {
      "image/png": "[encoded data removed]",
      "text/plain": [
       "<matplotlib.figure.Figure at 0x1119c24a8>"
      ]
     },
     "metadata": {},
     "output_type": "display_data"
    }
   ],
   "source": [
    "import numpy as np\n",
    "import matplotlib.pyplot as plt\n",
    "from matplotlib import gridspec\n",
    "\n",
    "nrow = 3\n",
    "ncol = 3\n",
    "\n",
    "fig = plt.figure(figsize=(6, 6)) \n",
    "\n",
    "gs = gridspec.GridSpec(nrow, ncol, width_ratios=[1, 1, 1],\n",
    "         wspace=0.0, hspace=0.0, top=0.7, bottom=0.05, left=0.19, right=0.845) \n",
    "\n",
    "for i in range(nrow):\n",
    "    for j in range(ncol):\n",
    "        im = np.random.rand(9,9)\n",
    "        ax= plt.subplot(gs[i,j])\n",
    "        ax.imshow(im)\n",
    "        ax.set_xticklabels([])\n",
    "        ax.set_yticklabels([])\n",
    "\n",
    "#plt.tight_layout() # do not use this!!\n",
    "plt.show()"
   ]
  },
  {
   "cell_type": "code",
   "execution_count": null,
   "metadata": {
    "collapsed": true
   },
   "outputs": [],
   "source": []
  }
 ],
 "metadata": {
  "kernelspec": {
   "display_name": "Python 3",
   "language": "python",
   "name": "python3"
  },
  "language_info": {
   "codemirror_mode": {
    "name": "ipython",
    "version": 3
   },
   "file_extension": ".py",
   "mimetype": "text/x-python",
   "name": "python",
   "nbconvert_exporter": "python",
   "pygments_lexer": "ipython3",
   "version": "3.6.1"
  }
 },
 "nbformat": 4,
 "nbformat_minor": 2
}
