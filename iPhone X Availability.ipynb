{
 "cells": [
  {
   "cell_type": "code",
   "execution_count": 1,
   "metadata": {},
   "outputs": [],
   "source": [
    "\"\"\"\n",
    "This python notebook tracks iphone X availability in HK apple store/ireverse by checking the values returned in the json files\n",
    "\"\"\"\n",
    "import urllib.request, urllib.parse, urllib.error\n",
    "import ssl\n",
    "import json\n",
    "import re\n",
    "import time\n",
    "import subprocess"
   ]
  },
  {
   "cell_type": "code",
   "execution_count": 2,
   "metadata": {},
   "outputs": [
    {
     "name": "stdout",
     "output_type": "stream",
     "text": [
      "Loop: 2 暫無供應\r"
     ]
    },
    {
     "ename": "KeyboardInterrupt",
     "evalue": "",
     "output_type": "error",
     "traceback": [
      "\u001b[0;31m---------------------------------------------------------------------------\u001b[0m",
      "\u001b[0;31mKeyboardInterrupt\u001b[0m                         Traceback (most recent call last)",
      "\u001b[0;32m<ipython-input-2-4e60a0f6e308>\u001b[0m in \u001b[0;36m<module>\u001b[0;34m()\u001b[0m\n\u001b[1;32m     35\u001b[0m     \u001b[0mcount\u001b[0m \u001b[0;34m=\u001b[0m\u001b[0;34m+\u001b[0m \u001b[0;36m1\u001b[0m\u001b[0;34m\u001b[0m\u001b[0m\n\u001b[1;32m     36\u001b[0m \u001b[0;34m\u001b[0m\u001b[0m\n\u001b[0;32m---> 37\u001b[0;31m     \u001b[0mtime\u001b[0m\u001b[0;34m.\u001b[0m\u001b[0msleep\u001b[0m\u001b[0;34m(\u001b[0m\u001b[0;36m10\u001b[0m\u001b[0;34m)\u001b[0m\u001b[0;34m\u001b[0m\u001b[0m\n\u001b[0m\u001b[1;32m     38\u001b[0m \u001b[0;34m\u001b[0m\u001b[0m\n",
      "\u001b[0;31mKeyboardInterrupt\u001b[0m: "
     ]
    }
   ],
   "source": [
    "url_reserve = \"https://reserve-prime.apple.com/HK/zh_HK/reserve/iPhoneX/availability.json\"\n",
    "url_app_store = \"https://www.apple.com/hk-zh/shop/delivery-message?parts.0=MQA52ZP%2FA&parts.1=MQA82ZP%2FA&little=true\"\n",
    "\n",
    "ctx = ssl.create_default_context()\n",
    "ctx.check_hostname = False\n",
    "ctx.verify_mode = ssl.CERT_NONE\n",
    "count = 0\n",
    "    \n",
    "while True:\n",
    "    # for iReserve\n",
    "    reserve_snippet = urllib.request.urlopen(url_reserve, context=ctx).read()\n",
    "    reserve_snippet.decode()\n",
    "\n",
    "    d = json.loads(reserve_snippet)\n",
    "    for key, value in d.items():\n",
    "        for store, status in d['stores'].items():\n",
    "            for product, avail in status.items():\n",
    "                for types, stat in avail.items():\n",
    "                    if ((stat['unlocked']) == True):\n",
    "                        print(\"store \" + str(store) + \" has stocks\")\n",
    "                        subprocess.call([\"afplay\", \"beep-08b.wav\"])\n",
    "                        \n",
    "    # for Apple Store\n",
    "    app_store_snippet = urllib.request.urlopen(url_app_store, context=ctx).read()\n",
    "    app_store_snippet.decode()\n",
    "    d1 = json.loads(app_store_snippet)\n",
    "    stockavail = d1['body']['content']['deliveryMessage']['MQA52ZP/A']['quote']\n",
    "    \n",
    "    if (stockavail != \"暫無供應\"):\n",
    "        print(\"apple store has stocks\")\n",
    "        subprocess.call([\"afplay\", \"beep-08b.wav\"])\n",
    "    else:\n",
    "        print(\"Loop: \" + str(count+1) + \" \" + str(stockavail), end=\"\\r\")\n",
    "    \n",
    "    count =+ 1\n",
    "    \n",
    "    time.sleep(10)\n",
    "\n"
   ]
  },
  {
   "cell_type": "code",
   "execution_count": null,
   "metadata": {},
   "outputs": [],
   "source": []
  },
  {
   "cell_type": "code",
   "execution_count": null,
   "metadata": {},
   "outputs": [],
   "source": []
  },
  {
   "cell_type": "code",
   "execution_count": null,
   "metadata": {
    "collapsed": true
   },
   "outputs": [],
   "source": []
  }
 ],
 "metadata": {
  "kernelspec": {
   "display_name": "Python 3",
   "language": "python",
   "name": "python3"
  },
  "language_info": {
   "codemirror_mode": {
    "name": "ipython",
    "version": 3
   },
   "file_extension": ".py",
   "mimetype": "text/x-python",
   "name": "python",
   "nbconvert_exporter": "python",
   "pygments_lexer": "ipython3",
   "version": "3.6.1"
  }
 },
 "nbformat": 4,
 "nbformat_minor": 2
}
