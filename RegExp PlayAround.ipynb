{
 "cells": [
  {
   "cell_type": "code",
   "execution_count": 18,
   "metadata": {
    "collapsed": true
   },
   "outputs": [],
   "source": [
    "import re\n",
    "import socket\n",
    "import scipy.io\n",
    "\n",
    "host = 'etw.nextdigital.com.hk'\n",
    "URLList = []\n",
    "restList = {}"
   ]
  },
  {
   "cell_type": "code",
   "execution_count": 19,
   "metadata": {
    "collapsed": true
   },
   "outputs": [],
   "source": [
    "def addRest(s):\n",
    "    \n",
    "    if s[0] == '/':\n",
    "        s = ''.join(host + item)\n",
    "    \n",
    "    info = s.split('/')\n",
    "    restList[info[2]] = info[3]\n",
    "    print(\"rest \" + str(info[2]) + \" is added!\")\n",
    "    \n",
    "    return"
   ]
  },
  {
   "cell_type": "code",
   "execution_count": 20,
   "metadata": {
    "collapsed": true
   },
   "outputs": [],
   "source": [
    "def fetchPage(url):\n",
    "    \n",
    "    # create an INET, STREAMing socket\n",
    "    s = socket.socket(socket.AF_INET, socket.SOCK_STREAM)\n",
    "    # now connect to the web server on port 80 - the normal http port\n",
    "    s.connect((host, 80))\n",
    "\n",
    "    cmd = 'GET ' + url + ' HTTP/1.0\\r\\n\\r\\n'\n",
    "    s.send(cmd.encode())\n",
    "\n",
    "\n",
    "    # scrap content of this page\n",
    "    pageCode = \"\"\n",
    "    while True:\n",
    "        data = s.recv(1048576)\n",
    "        pageCode += data.decode(encoding='utf-8',errors='ignore')\n",
    "        if (len(data) < 1): #end of data\n",
    "            break\n",
    "    s.close()\n",
    "    \n",
    "    # convert data chunk into a list line by line\n",
    "    pageCode = pageCode.split('\\n')\n",
    "    \n",
    "    return pageCode"
   ]
  },
  {
   "cell_type": "code",
   "execution_count": 21,
   "metadata": {
    "collapsed": true
   },
   "outputs": [],
   "source": [
    "def crawlpage(URLList, l=0):\n",
    "\n",
    "    pageCode = fetchPage('http://etw.nextdigital.com.hk/search/restaurant/?keyword=%E6%97%A5%E6%9C%AC%E8%8F%9C')\n",
    "\n",
    "    for line in pageCode:\n",
    "\n",
    "        u = re.findall('(search\\\\/restaurant\\\\/\\\\?cuisine\\\\[^\\\\\"^\\\\<^\\\\>]+)\"',line)\n",
    "        \n",
    "        if len(u) > 0: #only execute if there is a string\n",
    "            for item in u:\n",
    "                URLList.append(''.join(item))\n",
    "        \n",
    "        r = re.findall('\"//(etw.nextdigital.com.hk/restaurant/[0-9]+/.*)\"',line)\n",
    "        if len(r) > 0:\n",
    "            for item in r:\n",
    "                addRest(''.join(item))\n",
    "                URLList.append(''.join(item))\n",
    "\n",
    "    URLList = list(set(URLList))\n",
    "    print(URLList)\n",
    "    \n",
    "    if False:\n",
    "        for index, item in enumerate(URLList):\n",
    "            if l <= 100:\n",
    "                crawlpage(item, URLList, l+1)\n",
    "                #print(item)\n",
    "                URLList.pop(index)\n",
    "        #print(\"# of Rest\" + str(len(restList)))\n",
    "    \n",
    "    return URLList"
   ]
  },
  {
   "cell_type": "code",
   "execution_count": 22,
   "metadata": {},
   "outputs": [
    {
     "name": "stdout",
     "output_type": "stream",
     "text": [
      "rest 41032 is added!\n",
      "rest 41031 is added!\n",
      "rest 40992 is added!\n",
      "rest 40985 is added!\n",
      "rest 40983 is added!\n",
      "rest 40976 is added!\n",
      "rest 40974 is added!\n",
      "rest 40967 is added!\n",
      "rest 40965 is added!\n",
      "rest 40962 is added!\n",
      "rest 40954 is added!\n",
      "rest 40938 is added!\n",
      "rest 40937 is added!\n",
      "rest 40943 is added!\n",
      "rest 41018 is added!\n",
      "rest 41028 is added!\n",
      "rest 40958 is added!\n",
      "rest 40948 is added!\n",
      "rest 40936 is added!\n",
      "rest 40957 is added!\n",
      "rest 41032 is added!\n",
      "rest 41031 is added!\n",
      "rest 41021 is added!\n",
      "rest 41007 is added!\n",
      "rest 41006 is added!\n",
      "rest 32086 is added!\n",
      "rest 40172 is added!\n",
      "rest 32504 is added!\n",
      "rest 10765 is added!\n",
      "rest 40656 is added!\n",
      "rest 40765 is added!\n",
      "rest 10268 is added!\n",
      "rest 11799 is added!\n",
      "rest 34446 is added!\n",
      "rest 7227 is added!\n",
      "['etw.nextdigital.com.hk/restaurant/40965/麵屋一京-深水埗-日本菜-拉麵', 'etw.nextdigital.com.hk/restaurant/40936/Zakka-銅鑼灣-日本菜-西餐廳-甜品', 'etw.nextdigital.com.hk/restaurant/40948/道頓堀御好燒專門店-荃灣-日本菜-鐵板燒', 'etw.nextdigital.com.hk/restaurant/41028/板長壽司-北角-日本菜-壽司-刺身', 'etw.nextdigital.com.hk/restaurant/40172/Chic-by-The-Oyster-House-尖沙咀-歐陸菜-蠔吧-西餐廳/1', 'etw.nextdigital.com.hk/restaurant/40938/宏--九號水產-紅磡-日本菜-甜品', 'etw.nextdigital.com.hk/restaurant/40958/魂-太子-日本菜-拉麵', 'etw.nextdigital.com.hk/restaurant/40974/爭鮮外帶壽司-將軍澳-日本菜-壽司-刺身', 'etw.nextdigital.com.hk/restaurant/41006/11-Westside-西環-墨西哥菜/1', 'etw.nextdigital.com.hk/restaurant/40765/饕牛記-旺角-潮州菜-火鍋/1', 'etw.nextdigital.com.hk/restaurant/32504/Casa-Fina-Seafood---Oyster-Bar-銅鑼灣-海鮮-蠔吧-西餐廳/1', 'etw.nextdigital.com.hk/restaurant/40937/世界第二好味雪糕蜜瓜麵包-元朗-日本菜-麵包店-小食店-外賣店', 'etw.nextdigital.com.hk/restaurant/40656/蠔窩--九號水產-黃埔-蠔吧-海鮮/1', 'etw.nextdigital.com.hk/restaurant/10765/蠔酒吧-尖沙咀-歐陸菜-酒吧-西餐廳-酒店餐廳-蠔吧/1', 'etw.nextdigital.com.hk/restaurant/41032/九湯屋-元朗-日本菜-拉麵', 'etw.nextdigital.com.hk/restaurant/41007/海底撈火鍋-油麻地-四川菜-火鍋/1', 'etw.nextdigital.com.hk/restaurant/40976/吉豚屋吉列豬扒專門-沙田-日本菜', 'etw.nextdigital.com.hk/restaurant/41018/Cow-Bean-by-Pokka-Café-荃灣-日本菜-Café', 'etw.nextdigital.com.hk/restaurant/41031/勝手丼-元朗-日本菜-壽司-刺身-丼飯/1', 'etw.nextdigital.com.hk/restaurant/41032/九湯屋-元朗-日本菜-拉麵/1', 'etw.nextdigital.com.hk/restaurant/40962/The-Balcony-中環-日本菜-西餐廳', 'etw.nextdigital.com.hk/restaurant/40985/定食8-粉嶺-日本菜-壽司-刺身-烏冬', 'etw.nextdigital.com.hk/restaurant/40954/初心手作料理-元朗-日本菜', 'etw.nextdigital.com.hk/restaurant/10268/牛芳百世-尖沙咀-港式-粉麵-茶餐廳-冰室/1', 'etw.nextdigital.com.hk/restaurant/40983/禾彩日本料理-香港仔-日本菜', 'etw.nextdigital.com.hk/restaurant/7227/牛三館-中環-廣東菜-中菜館/1', 'etw.nextdigital.com.hk/restaurant/40957/鮨瀧-尖沙咀-日本菜-壽司-刺身-廚師發辦', 'etw.nextdigital.com.hk/restaurant/40992/和拉麵-大埔-日本菜-拉麵', 'etw.nextdigital.com.hk/restaurant/34446/牛欄牛什粉麵-荃灣-廣東菜-粉麵/1', 'etw.nextdigital.com.hk/restaurant/11799/Honbo-灣仔-美國菜-漢堡包/1', 'etw.nextdigital.com.hk/restaurant/40967/九重町日本料理-屯門-日本菜', 'etw.nextdigital.com.hk/restaurant/41031/勝手丼-元朗-日本菜-壽司-刺身-丼飯', 'etw.nextdigital.com.hk/restaurant/40943/千上日本料理-尖沙咀-日本菜-海鮮-爐端燒-壽司-刺身-居酒屋', 'etw.nextdigital.com.hk/restaurant/41021/北京羲和雅苑烤鴨坊-尖沙咀-京川滬-中菜館/1', 'etw.nextdigital.com.hk/restaurant/32086/Taylor-Shellfish-Farm-大坑-蠔吧-西餐廳-海鮮/1']\n"
     ]
    }
   ],
   "source": [
    "URLList = crawlpage(URLList)"
   ]
  },
  {
   "cell_type": "code",
   "execution_count": null,
   "metadata": {
    "collapsed": true
   },
   "outputs": [],
   "source": [
    "### print(URLList)"
   ]
  },
  {
   "cell_type": "code",
   "execution_count": null,
   "metadata": {
    "collapsed": true
   },
   "outputs": [],
   "source": []
  },
  {
   "cell_type": "code",
   "execution_count": null,
   "metadata": {
    "collapsed": true
   },
   "outputs": [],
   "source": []
  }
 ],
 "metadata": {
  "kernelspec": {
   "display_name": "Python 3",
   "language": "python",
   "name": "python3"
  },
  "language_info": {
   "codemirror_mode": {
    "name": "ipython",
    "version": 3
   },
   "file_extension": ".py",
   "mimetype": "text/x-python",
   "name": "python",
   "nbconvert_exporter": "python",
   "pygments_lexer": "ipython3",
   "version": "3.6.1"
  }
 },
 "nbformat": 4,
 "nbformat_minor": 2
}
