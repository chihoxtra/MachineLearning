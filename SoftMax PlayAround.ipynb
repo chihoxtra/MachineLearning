{
 "cells": [
  {
   "cell_type": "code",
   "execution_count": 1,
   "metadata": {
    "collapsed": true
   },
   "outputs": [],
   "source": [
    "# -*- coding: utf-8 -*-\n",
    "import numpy as np\n",
    "import scipy.io\n",
    "import math\n",
    "import matplotlib.pyplot as plt\n",
    "import subprocess\n",
    "from PIL import Image"
   ]
  },
  {
   "cell_type": "code",
   "execution_count": 2,
   "metadata": {
    "collapsed": true
   },
   "outputs": [],
   "source": [
    "def softmax(Z):\n",
    "    \n",
    "    Zshift = Z - np.max(Z)\n",
    "    \n",
    "    t = np.exp(Zshift)\n",
    "    a = np.divide(t, (np.sum(t, axis=0, keepdims=True)))\n",
    "    \n",
    "    return a, Z"
   ]
  },
  {
   "cell_type": "code",
   "execution_count": 19,
   "metadata": {
    "collapsed": true
   },
   "outputs": [],
   "source": [
    "def softmax_backward_extended(dA, cache):\n",
    "    \"\"\"Unvectorized computation of the gradient of softmax.\n",
    " \n",
    "    z: (T, 1) column array of input values.\n",
    " \n",
    "    Returns D (T, T) the Jacobian matrix of softmax(z) at the given z. D[i, j]\n",
    "    is DjSi - the partial derivative of Si w.r.t. input j.\n",
    "    \"\"\"\n",
    "    Z = cache    \n",
    "    a, _ = softmax(Z)\n",
    "    \n",
    "    assert(Z.shape == dA.shape)\n",
    "    \n",
    "    noOfClass, m = Z.shape\n",
    "    dJdZ = np.zeros([noOfClass, m])\n",
    "    \n",
    "    #print(dA[:,1])\n",
    "    \n",
    "    for k in range(m):\n",
    "        dAdZ = np.zeros((noOfClass, noOfClass))\n",
    "        \n",
    "        for i in range(noOfClass):\n",
    "            for j in range(noOfClass):\n",
    "                dAdZ[i, j] = a[i, k] * ((i == j) - a[j, k])\n",
    "\n",
    "        D = -np.outer(a[:, k], a[:, k]) + np.diag(a[:, k].flatten())\n",
    "        \n",
    "        if (np.sum(dAdZ) - np.sum(D)) > 1e-16:\n",
    "            print(\"too big\")\n",
    "        assert(D.shape ==  dAdZ.shape)\n",
    "        \n",
    "        #print((dA[:,k].reshape(noOfClass,1) * D).shape)\n",
    "        \n",
    "        new_vector = np.sum (dA[:,k].reshape(noOfClass,1) * D, axis=1, keepdims=True)\n",
    "        #print(new_vector.shape)\n",
    "        #new_vector.shape\n",
    "        #print(dA[:,k].reshape(noOfClass,1).shape)\n",
    "        #new1_vector = np.sum( dA[:,k].reshape(noOfClass,1) * dAdZ  , axis = 1, keepdims=True)\n",
    "        #new_vector = dA[:,k].reshape(noOfClass,1) * np.sum(dAdZ, axis = 1, keepdims=True)\n",
    "        \n",
    "        #print(new_vector.shape)\n",
    "        \n",
    "        if k == 0:\n",
    "            dJdZ = new_vector\n",
    "\n",
    "        else:\n",
    "            dJdZ = np.concatenate((dJdZ, new_vector), axis=1)\n",
    "            \n",
    "            \n",
    "\n",
    "    dJdZa = a + dA*a\n",
    "\n",
    "    print(dJdZa.shape)\n",
    "    \n",
    "    return dJdZ, dJdZa"
   ]
  },
  {
   "cell_type": "code",
   "execution_count": 41,
   "metadata": {},
   "outputs": [
    {
     "name": "stdout",
     "output_type": "stream",
     "text": [
      "40000.0\n",
      "(10, 4000)\n"
     ]
    }
   ],
   "source": [
    "Z = np.random.rand(10,4000)\n",
    "\n",
    "Y = np.zeros([10,4000])\n",
    "\n",
    "\n",
    "Y[np.argmax(Z, axis=0).reshape(1,4000),:]=1\n",
    "print(np.sum(Y))\n",
    "\n",
    "\n",
    "dJdZ, dJdZa = softmax_backward_extended(Z, Z)\n",
    "#print(dJdZa.shape)"
   ]
  },
  {
   "cell_type": "code",
   "execution_count": 31,
   "metadata": {},
   "outputs": [
    {
     "data": {
      "text/plain": [
       "-6296.2517253829465"
      ]
     },
     "execution_count": 31,
     "metadata": {},
     "output_type": "execute_result"
    }
   ],
   "source": [
    "np.sum(dJdZ) - np.sum(dJdZa)"
   ]
  },
  {
   "cell_type": "code",
   "execution_count": 6,
   "metadata": {
    "collapsed": true
   },
   "outputs": [],
   "source": [
    "#D = -np.outer(Z, Z) + np.diag(Z.flatten())\n",
    "#print(D)"
   ]
  },
  {
   "cell_type": "code",
   "execution_count": null,
   "metadata": {
    "collapsed": true
   },
   "outputs": [],
   "source": []
  }
 ],
 "metadata": {
  "kernelspec": {
   "display_name": "Python 3",
   "language": "python",
   "name": "python3"
  },
  "language_info": {
   "codemirror_mode": {
    "name": "ipython",
    "version": 3
   },
   "file_extension": ".py",
   "mimetype": "text/x-python",
   "name": "python",
   "nbconvert_exporter": "python",
   "pygments_lexer": "ipython3",
   "version": "3.6.1"
  }
 },
 "nbformat": 4,
 "nbformat_minor": 2
}
