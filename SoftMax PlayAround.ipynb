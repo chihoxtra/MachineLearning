{
 "cells": [
  {
   "cell_type": "code",
   "execution_count": 5,
   "metadata": {
    "collapsed": true
   },
   "outputs": [],
   "source": [
    "# -*- coding: utf-8 -*-\n",
    "import numpy as np\n",
    "import scipy.io\n",
    "import math\n",
    "import matplotlib.pyplot as plt\n",
    "import subprocess\n",
    "import time\n",
    "from PIL import Image"
   ]
  },
  {
   "cell_type": "code",
   "execution_count": 104,
   "metadata": {
    "collapsed": true
   },
   "outputs": [],
   "source": [
    "def thissoftmax(Z):\n",
    "    \n",
    "    #Zshift = Z - np.max(Z)\n",
    "    \n",
    "    t = np.exp(Z)\n",
    "    a = np.divide(t, (np.sum(t, axis=0, keepdims=True)))\n",
    "    \n",
    "    return a, Z"
   ]
  },
  {
   "cell_type": "code",
   "execution_count": 162,
   "metadata": {
    "collapsed": true
   },
   "outputs": [],
   "source": [
    "def softmax_backward_extended(dA, dJdAMAtrix, cache, Y):\n",
    "    \"\"\"Unvectorized computation of the gradient of softmax.\n",
    " \n",
    "    z: (T, 1) column array of input values.\n",
    " \n",
    "    Returns D (T, T) the Jacobian matrix of softmax(z) at the given z. D[i, j]\n",
    "    is DjSi - the partial derivative of Si w.r.t. input j.\n",
    "    \"\"\"\n",
    "    Z = cache    \n",
    "    a, _ = thissoftmax(Z)\n",
    "    \n",
    "    assert(Z.shape == dA.shape)\n",
    "    \n",
    "    noOfClass, m = Z.shape\n",
    "    \n",
    "    dJdZMatrix = np.zeros([noOfClass, 1])\n",
    "    #print(dA[:,1])\n",
    "    \n",
    "    for k in range(m):\n",
    "        \n",
    "        dAdZ = np.zeros((noOfClass, noOfClass))\n",
    "        \n",
    "        for i in range(noOfClass):\n",
    "            for j in range(noOfClass):\n",
    "                dAdZ[i, j] = a[i, k] * ((i == j) - a[j, k])\n",
    "\n",
    "        dAdZMatrix = -np.outer(a[:, k], a[:, k]) + np.diag(a[:, k].flatten())\n",
    "        \n",
    "        if (np.sum(dAdZ) - np.sum(dAdZMatrix)) > 1e-15:\n",
    "            print(\"difference for dAdZ and Matrix is too big\")\n",
    "        assert(dAdZMatrix.shape ==  dAdZ.shape)\n",
    "        \n",
    "        new_vector = np.zeros((noOfClass, 1))\n",
    "        \n",
    "        #print((dA[:,k].reshape(noOfClass,1) * D).shape)\n",
    "        \"\"\"\n",
    "        for j in range(noOfClass):\n",
    "            if j ==0:\n",
    "                temp_vector = np.sum (dJdAMAtrix[k,j, :,:] * dAdZMatrix, axis=1, keepdims=True)\n",
    "            else:\n",
    "                temp_vector = temp_vector + np.sum (dJdAMAtrix[k,j, :,:] * dAdZMatrix, axis=1, keepdims=True)\n",
    "                \n",
    "            new_vector = temp_vector\n",
    "        #new_vector = np.sum (dJdAMAtrix[k,:,:] * dAdZMatrix, axis=1, keepdims=True)\n",
    "        \n",
    "        #print(dJdAMAtrix[k,:,:].shape)\n",
    "        new_vector.reshape(noOfClass,1)\n",
    "        \"\"\"\n",
    "        new_vector = np.sum ( (dA[:,k].reshape(noOfClass,1) * dAdZMatrix).T, axis=1, keepdims=True)\n",
    "        #print(new_vector.shape)\n",
    "        #new_vector.shape\n",
    "        #print(dA[:,k].reshape(noOfClass,1).shape)\n",
    "        #new1_vector = np.sum( dA[:,k].reshape(noOfClass,1) * dAdZ  , axis = 1, keepdims=True)\n",
    "        #new_vector = dA[:,k].reshape(noOfClass,1) * np.sum(dAdZ, axis = 1, keepdims=True)\n",
    "        \n",
    "        #print(new_vector.shape)\n",
    "        \n",
    "        if k == 0:\n",
    "            dJdZMatrix = new_vector\n",
    "\n",
    "        else:\n",
    "            dJdZMatrix = np.concatenate((dJdZMatrix, new_vector), axis=1)\n",
    "            \n",
    "            \n",
    "\n",
    "    dJdZa = a + dA*a\n",
    "    \n",
    "    #print(dJdZa[:,1] - dJdZMatrix[:,1])\n",
    "    \n",
    "    return dJdZMatrix, dJdZa"
   ]
  },
  {
   "cell_type": "code",
   "execution_count": 163,
   "metadata": {},
   "outputs": [],
   "source": [
    "m = 4000\n",
    "noOfClass = 10\n",
    "\n",
    "Z = np.random.rand(noOfClass,m)\n",
    "\n",
    "Y = (Z == Z.max(axis=0)[None, :]).astype(int)\n",
    "AL, Z = thissoftmax(Z)\n",
    "\n",
    "### simple way ###\n",
    "DJDAL = -1 * Y/AL\n",
    "for i in range(m):\n",
    "    if np.sum(DJDAL[:,i] == 0.0) != 9:\n",
    "        print(\"error\")\n",
    "\n",
    "dALMatrix = np.zeros([m, noOfClass ,noOfClass, noOfClass])\n",
    "for k in range(m):\n",
    "    #print(1/AL[:,i].reshape(noOfClass,1).shape)\n",
    "    tempMatrix = -1 * np.outer(Y[:,k].reshape(noOfClass,1), 1./(AL[:,k].reshape(noOfClass,1)))\n",
    "    for l in range(noOfClass):\n",
    "        tempMatrix1 = tempMatrix\n",
    "        tempMatrix1[l,:] = 0.0\n",
    "        tempMatrix1[:,l] = 0.0\n",
    "        #print(tempMatrix1)\n",
    "        dALMatrix[k,l,:,:] = tempMatrix1\n",
    "    np.set_printoptions(linewidth=120) \n",
    "    #for i in range(noOfClass):\n",
    "        #for j in range(noOfClass):\n",
    "            #if i != j:\n",
    "                #if dALMatrix[k,i,j] != 0.0:\n",
    "                    #print(dALMatrix[k,i,j])\n",
    "#print(dALMatrix[1,:,:])\n",
    "\n",
    "#for i in range(m):\n",
    "#    diff  = (np.sum(np.diag(dALMatrix[i,i,:,:]) - DJDAL[:,i]))\n",
    "#    if diff > 1e-15:\n",
    "#        print(\"diff between 2 methods is too big: \" + str(diff) )\n",
    "\n",
    "\n",
    "\n",
    "#print(DJDAL.shape)\n",
    "\n",
    "dAns = AL - Y\n",
    "\n",
    "dJdZMatrix, dJdZa = softmax_backward_extended(DJDAL, dALMatrix, Z, Y)\n",
    "#print(dJdZa.shape)"
   ]
  },
  {
   "cell_type": "code",
   "execution_count": 164,
   "metadata": {},
   "outputs": [
    {
     "name": "stdout",
     "output_type": "stream",
     "text": [
      "-3.90798504668e-14\n",
      "7.1054273576e-15\n"
     ]
    }
   ],
   "source": [
    "print(np.sum(dJdZMatrix) - np.sum(dJdZa))\n",
    "print(np.sum(dAns) - np.sum(dJdZMatrix))"
   ]
  },
  {
   "cell_type": "code",
   "execution_count": 6,
   "metadata": {
    "collapsed": true
   },
   "outputs": [],
   "source": [
    "#D = -np.outer(Z, Z) + np.diag(Z.flatten())\n",
    "#print(D)"
   ]
  },
  {
   "cell_type": "code",
   "execution_count": null,
   "metadata": {
    "collapsed": true
   },
   "outputs": [],
   "source": []
  }
 ],
 "metadata": {
  "kernelspec": {
   "display_name": "Python 3",
   "language": "python",
   "name": "python3"
  },
  "language_info": {
   "codemirror_mode": {
    "name": "ipython",
    "version": 3
   },
   "file_extension": ".py",
   "mimetype": "text/x-python",
   "name": "python",
   "nbconvert_exporter": "python",
   "pygments_lexer": "ipython3",
   "version": "3.6.1"
  }
 },
 "nbformat": 4,
 "nbformat_minor": 2
}
