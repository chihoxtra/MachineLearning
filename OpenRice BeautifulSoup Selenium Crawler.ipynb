{
 "cells": [
  {
   "cell_type": "code",
   "execution_count": 90,
   "metadata": {
    "scrolled": true
   },
   "outputs": [],
   "source": [
    "import urllib.request, urllib.parse, urllib.error\n",
    "from bs4 import BeautifulSoup\n",
    "from selenium import webdriver\n",
    "from selenium.webdriver.common.keys import Keys\n",
    "import json\n",
    "import ssl\n",
    "import re\n",
    "import time\n"
   ]
  },
  {
   "cell_type": "code",
   "execution_count": 2,
   "metadata": {
    "collapsed": true
   },
   "outputs": [],
   "source": [
    "def loadFiles():\n",
    "    with open('restMasterList.json') as fp:\n",
    "        f = json.load(fp)\n",
    "        id = 20047\n",
    "        print(len(f[str(id)]) > 0)\n",
    "    return"
   ]
  },
  {
   "cell_type": "code",
   "execution_count": 3,
   "metadata": {
    "collapsed": true
   },
   "outputs": [],
   "source": [
    "def prepareMasterSeedList(district_elements, cuisine_elements, foodtype_elements):\n",
    "    MasterSeedURL = []\n",
    "    baseURL = \"http://etw.nextdigital.com.hk/search/restaurant/?\"\n",
    "\n",
    "    \n",
    "    for i in range(len(district_elements)):\n",
    "        d = baseURL + \"district=\" + district_elements[i]\n",
    "        MasterSeedURL.append(d)\n",
    "\n",
    "    for i in range(len(cuisine_elements)):\n",
    "        d = baseURL + \"cuisine=\" + cuisine_elements[i]\n",
    "        MasterSeedURL.append(d)\n",
    "\n",
    "    for i in range(len(foodtype_elements)):\n",
    "        d = baseURL + \"foodtype=\" + foodtype_elements[i]\n",
    "        MasterSeedURL.append(d)   \n",
    "\n",
    "    print(\"Masterlist length: \" +  str(len(MasterSeedURL)))\n",
    "        \n",
    "        \n",
    "    return MasterSeedURL"
   ]
  },
  {
   "cell_type": "code",
   "execution_count": 4,
   "metadata": {
    "collapsed": true
   },
   "outputs": [],
   "source": [
    "def fetchSearchInfo(url):\n",
    "    \n",
    "    browser = webdriver.Chrome('/Users/samuelpun_old/Downloads/chromedriver')\n",
    "\n",
    "    browser.get(url)\n",
    "    time.sleep(1)\n",
    "\n",
    "    elem = browser.find_element_by_tag_name(\"body\")\n",
    "\n",
    "        \n",
    "    # extract Search Options seeds\n",
    "    district_elements = extractElements(browser, \"selected_district\", \"value\", \"find_elements_by_name\")\n",
    "    cuisine_elements = extractElements(browser, \"selected_cuisine\", \"value\", \"find_elements_by_name\")\n",
    "    foodtype_elements = extractElements(browser, \"selected_foodtype\", \"value\", \"find_elements_by_name\")\n",
    "    \n",
    "    browser.close()\n",
    "                                             \n",
    "    return district_elements, cuisine_elements, foodtype_elements"
   ]
  },
  {
   "cell_type": "code",
   "execution_count": 5,
   "metadata": {
    "collapsed": true
   },
   "outputs": [],
   "source": [
    "def extractElements(browserObj, tagName, attr, method):\n",
    "    \n",
    "    if method == \"find_elements_by_name\":\n",
    "        elements = browserObj.find_elements_by_name(tagName)\n",
    "    elif method  == \"find_elements_by_class_name\":\n",
    "        elements = browserObj.find_elements_by_class_name(tagName)\n",
    "        \n",
    "    snippets = []\n",
    "    \n",
    "    for item in elements:\n",
    "        snippets.append(item.get_attribute(attr))\n",
    "    \n",
    "    return snippets"
   ]
  },
  {
   "cell_type": "code",
   "execution_count": 6,
   "metadata": {
    "collapsed": true
   },
   "outputs": [],
   "source": [
    "def crawlRestInfo(url, tag):\n",
    "    \n",
    "    browser = webdriver.Chrome('/Users/samuelpun_old/Downloads/chromedriver')\n",
    "\n",
    "    browser.get(url)\n",
    "    time.sleep(1.5)\n",
    "\n",
    "    # extract restaurants class\n",
    "    restclass_elements = extractElements(browser, \"content-wrapper\", \n",
    "                                             \"innerHTML\", \"find_elements_by_class_name\")\n",
    "    browser.close()\n",
    "        \n",
    "                                             \n",
    "    return restclass_elements"
   ]
  },
  {
   "cell_type": "code",
   "execution_count": 7,
   "metadata": {
    "collapsed": true
   },
   "outputs": [],
   "source": [
    "def processRestsData(restsEntry):\n",
    "    \n",
    "    count = 0\n",
    "    \n",
    "    # from a list of href exact restaurant and new masterList info\n",
    "    for i in range(len(restsEntry)):\n",
    "        s = str(restsEntry[i])\n",
    "        restInfo = re.findall('href\\\\=\\\\\"\\\\/zh\\\\/hongkong\\\\/(r\\\\-\\S+\\\\-r[0-9]+)\\\\\"',s)\n",
    "        restAddr = re.findall('\\\\/district/\\S+\\\\\"\\\\>(\\S+)\\\\<\\\\/a\\\\>(\\S+)',s)\n",
    "        posRate = re.findall('score score\\\\-big highlight\\\\\"\\\\>([0-9]+)\\\\<\\\\/span\\\\>',s)\n",
    "        negRate = re.findall('score highlight\\\\\"\\\\>([0-9]+)\\\\<\\\\/span\\\\>',s)\n",
    "        \n",
    "        rest = {}\n",
    "        \n",
    "        \n",
    "        rest = {}\n",
    "        for item in restInfo:\n",
    "            info = (urllib.parse.unquote(item)).split('-')\n",
    "            if len( info[5]) > 0:\n",
    "                rest['ID'] = info[5]\n",
    "            if len( info[1]) > 0:\n",
    "                rest['name'] = info[1]\n",
    "            if len( info[2]) > 0:  \n",
    "                rest['district'] = info[2]\n",
    "            if len( info[3]) > 0: \n",
    "                rest['cuisine'] = info[3]\n",
    "            if len( info[4]) > 0: \n",
    "                rest['foottype'] = info[4]\n",
    "            if len( restAddr[0][1]) > 0: \n",
    "                rest['address'] = restAddr[0][1]\n",
    "            if len(negRate) > 0:   \n",
    "                rest['posRate'] = posRate\n",
    "            if len(posRate) > 0: \n",
    "                rest['negRate'] = negRate\n",
    "            \n",
    "            if rest['ID'] in restMasterList:\n",
    "                continue\n",
    "            else:\n",
    "                restMasterList[rest['ID']] = rest\n",
    "                count = count + 1\n",
    "    \n",
    "    print(str(count) + \" records updated. Total record: \" + str(len(restMasterList)))\n",
    "\n",
    "    # save file as JSON format\n",
    "    with open('./ORrestMasterList.json', 'w+') as fp:\n",
    "        json.dump(restMasterList, fp)\n",
    "        #existingRecord = dict(json.load(fp))\n",
    "         \n",
    "    return restMasterList"
   ]
  },
  {
   "cell_type": "code",
   "execution_count": 8,
   "metadata": {
    "collapsed": true
   },
   "outputs": [],
   "source": [
    "def processCrawlList(restMasterList, seedMasterList):\n",
    "    \n",
    "    pageDownNumber = 1000\n",
    "    \n",
    "    # scan thru the seedMasterList go get a list of href\n",
    "    restsEntry = []\n",
    "    count = 0\n",
    "    \n",
    "    for i in range(len(seedMasterList)):\n",
    "        print(\"fetching \" + str(i) + \"th URL out of \" + str(len(seedMasterList)))\n",
    "        this_url = seedMasterList[i]\n",
    "        restclass_elements = crawlRestInfo(this_url, 'a', pageDownNumber, True) \n",
    "        restMasterList = processRestsData(restclass_elements)\n",
    "        #restsEntry =  restsEntry + restclass_elements\n",
    "        count = count + 1\n",
    "    \n",
    "    print(str(count) + \" url fetched\")\n",
    "    \n",
    "    #restMasterList = processRestsData(restsEntry)\n",
    "        \n",
    "    return restsEntry, restMasterList"
   ]
  },
  {
   "cell_type": "code",
   "execution_count": 10,
   "metadata": {},
   "outputs": [],
   "source": [
    "#url = input('Enter - ')\n",
    "seedMasterList = []\n",
    "restMasterList = {}\n",
    "seedURL = \"http://etw.nextdigital.com.hk\"\n",
    "url = 'https://www.openrice.com/zh/hongkong/restaurants?what=%E6%97%A5%E6%9C%AC%E8%8F%9C'\n",
    "seedMasterList.append(url)\n",
    "\n",
    "#district_elements, cuisine_elements, foodtype_elements = fetchSearchInfo(seedURL)\n",
    "#seedMasterList = prepareMasterSeedList(district_elements, cuisine_elements, foodtype_elements)\n",
    "\n",
    "#restsEntry, restMasterList = processCrawlList(restMasterList, seedMasterList)"
   ]
  },
  {
   "cell_type": "code",
   "execution_count": 92,
   "metadata": {},
   "outputs": [],
   "source": [
    "browser = webdriver.Chrome('/Users/samuelpun_old/Downloads/chromedriver')\n",
    "\n",
    "browser.get(url)\n",
    "time.sleep(1.5)\n",
    "\n"
   ]
  },
  {
   "cell_type": "code",
   "execution_count": 93,
   "metadata": {},
   "outputs": [
    {
     "name": "stdout",
     "output_type": "stream",
     "text": [
      "\n",
      "    \n",
      "\n",
      "    \n",
      "    \n",
      "    <a class=\"pagination-button     \n",
      "    pagination-button-focus curr js-curr\n",
      "    \n",
      "     \n",
      "     \n",
      "\" data-curr-url=\"/zh/hongkong/restaurants?what=%E6%97%A5%E6%9C%AC%E8%8F%9C\" data-page=\"1\">\n",
      "        1\n",
      "    </a>\n",
      "    \n",
      "    <a class=\"pagination-button     \n",
      "     \n",
      "     next js-next \n",
      "\" href=\"/zh/hongkong/restaurants?what=%E6%97%A5%E6%9C%AC%E8%8F%9C&amp;page=2\" data-page=\"2\">\n",
      "        2\n",
      "    </a>\n",
      "    \n",
      "    <a class=\"pagination-button     \n",
      "     \n",
      "     next js-next \n",
      "\" href=\"/zh/hongkong/restaurants?what=%E6%97%A5%E6%9C%AC%E8%8F%9C&amp;page=3\" data-page=\"3\">\n",
      "        3\n",
      "    </a>\n",
      "    \n",
      "    <a class=\"pagination-button     \n",
      "     \n",
      "     next js-next \n",
      "\" href=\"/zh/hongkong/restaurants?what=%E6%97%A5%E6%9C%AC%E8%8F%9C&amp;page=4\" data-page=\"4\">\n",
      "        4\n",
      "    </a>\n",
      "    \n",
      "    <a class=\"pagination-button     \n",
      "     \n",
      "     next js-next \n",
      "\" href=\"/zh/hongkong/restaurants?what=%E6%97%A5%E6%9C%AC%E8%8F%9C&amp;page=5\" data-page=\"5\">\n",
      "        5\n",
      "    </a>\n",
      "    \n",
      "    \n",
      "\n",
      "    \n",
      "    <a class=\"pagination-button next js-next\" href=\"/zh/hongkong/restaurants?what=%E6%97%A5%E6%9C%AC%E8%8F%9C&amp;page=2\" data-target=\"2\" data-page=\"2\">\n",
      "        <div class=\"or-sprite common_pagination_more_r_desktop\"></div>\n",
      "    </a>\n",
      "    \n",
      "\n"
     ]
    }
   ],
   "source": [
    "elem = browser.find_elements_by_class_name(\"pagination\")\n",
    "snippet = elem[0].get_attribute('innerHTML')\n",
    "print(snippet)\n"
   ]
  },
  {
   "cell_type": "code",
   "execution_count": null,
   "metadata": {},
   "outputs": [],
   "source": []
  },
  {
   "cell_type": "code",
   "execution_count": null,
   "metadata": {},
   "outputs": [],
   "source": []
  },
  {
   "cell_type": "code",
   "execution_count": null,
   "metadata": {
    "collapsed": true
   },
   "outputs": [],
   "source": []
  }
 ],
 "metadata": {
  "kernelspec": {
   "display_name": "Python 3",
   "language": "python",
   "name": "python3"
  },
  "language_info": {
   "codemirror_mode": {
    "name": "ipython",
    "version": 3
   },
   "file_extension": ".py",
   "mimetype": "text/x-python",
   "name": "python",
   "nbconvert_exporter": "python",
   "pygments_lexer": "ipython3",
   "version": "3.6.1"
  }
 },
 "nbformat": 4,
 "nbformat_minor": 2
}
